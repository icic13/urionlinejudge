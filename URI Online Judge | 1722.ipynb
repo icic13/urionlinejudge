{
 "cells": [
  {
   "cell_type": "code",
   "execution_count": 3,
   "metadata": {
    "collapsed": false
   },
   "outputs": [
    {
     "name": "stdout",
     "output_type": "stream",
     "text": [
      "10 100\n",
      "5\n",
      "1234567890 9876543210\n",
      "4\n",
      "0 0\n"
     ]
    }
   ],
   "source": [
    "def count_fibonacci(low,high):\n",
    "    f1,f2,f3 = 1,2,3\n",
    "    result = 0\n",
    "    while f1<=high:\n",
    "        if(f1>=low):\n",
    "            result+=1\n",
    "        f1 = f2\n",
    "        f2 = f3\n",
    "        f3 = f1+f2\n",
    "    return result\n",
    "while(True):\n",
    "    a,b  = raw_input().split()\n",
    "    a = int(a)\n",
    "    b = int(b)\n",
    "    if a == 0 and b == 0:\n",
    "        break\n",
    "    print count_fibonacci(a,b)"
   ]
  },
  {
   "cell_type": "code",
   "execution_count": null,
   "metadata": {
    "collapsed": false
   },
   "outputs": [],
   "source": [
    "10 "
   ]
  },
  {
   "cell_type": "code",
   "execution_count": null,
   "metadata": {
    "collapsed": false
   },
   "outputs": [],
   "source": [
    "count_fibonacci(10,100)"
   ]
  },
  {
   "cell_type": "code",
   "execution_count": null,
   "metadata": {
    "collapsed": false
   },
   "outputs": [],
   "source": [
    "b"
   ]
  },
  {
   "cell_type": "code",
   "execution_count": null,
   "metadata": {
    "collapsed": true
   },
   "outputs": [],
   "source": []
  }
 ],
 "metadata": {
  "kernelspec": {
   "display_name": "Python 2",
   "language": "python",
   "name": "python2"
  },
  "language_info": {
   "codemirror_mode": {
    "name": "ipython",
    "version": 2
   },
   "file_extension": ".py",
   "mimetype": "text/x-python",
   "name": "python",
   "nbconvert_exporter": "python",
   "pygments_lexer": "ipython2",
   "version": "2.7.10"
  }
 },
 "nbformat": 4,
 "nbformat_minor": 0
}
