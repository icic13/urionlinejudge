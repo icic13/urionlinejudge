{
 "cells": [
  {
   "cell_type": "code",
   "execution_count": 4,
   "metadata": {
    "collapsed": false
   },
   "outputs": [
    {
     "name": "stdout",
     "output_type": "stream",
     "text": [
      "3\n",
      "21\n",
      "3\n",
      "3\n",
      "2\n",
      "123456789123456789123456789\n",
      "50\n"
     ]
    }
   ],
   "source": [
    "'''\n",
    "    Author:\n",
    "    Md. Rana Mahmud\n",
    "    www.ranamahmud.com\n",
    "'''\n",
    "T = int(raw_input())\n",
    "def countSetBits(num):\n",
    "    count = 0\n",
    "    while(num):\n",
    "        num = num&(num-1)\n",
    "        count+=1\n",
    "    return count\n",
    "        \n",
    "for counter in range(0,T):\n",
    "    l = int(raw_input())\n",
    "    print countSetBits(l)"
   ]
  },
  {
   "cell_type": "code",
   "execution_count": 2,
   "metadata": {
    "collapsed": false
   },
   "outputs": [
    {
     "name": "stdout",
     "output_type": "stream",
     "text": [
      "5\n"
     ]
    }
   ],
   "source": [
    "print T"
   ]
  },
  {
   "cell_type": "code",
   "execution_count": null,
   "metadata": {
    "collapsed": true
   },
   "outputs": [],
   "source": []
  }
 ],
 "metadata": {
  "kernelspec": {
   "display_name": "Python 2",
   "language": "python",
   "name": "python2"
  },
  "language_info": {
   "codemirror_mode": {
    "name": "ipython",
    "version": 2
   },
   "file_extension": ".py",
   "mimetype": "text/x-python",
   "name": "python",
   "nbconvert_exporter": "python",
   "pygments_lexer": "ipython2",
   "version": "2.7.10"
  }
 },
 "nbformat": 4,
 "nbformat_minor": 0
}
